{
 "cells": [
  {
   "cell_type": "markdown",
   "id": "95b518e4",
   "metadata": {},
   "source": [
    "# Solución de sistemas lineales de ecuaciones algebráicas\n",
    "\n",
    "## Motivación\n",
    "\n",
    "Los sistemas lineales de ecuaciones algebráicas son útiles para modelar muchos problemas científicos tales como el balanceo de ecuaciones químicas, el cálculo de corrientes en circuitos electrónicos, además de tener muchísimas aplicaciones dentro de la computación y las mismas matemáticas. Por ello, es de gran utilidad saber cómo se pueden implementar métodos numéricos que resuelvan este tipo de sistemas."
   ]
  },
  {
   "cell_type": "markdown",
   "id": "bef591a1",
   "metadata": {},
   "source": [
    "## Sistemas lineales de ecuaciones algebráicas\n",
    "\n",
    "Un _sistema de ecuaciones_ es un grupo de ecuaciones que deben cumplirse simultáneamente. En general, podemos expresar un sistema de $m$ ecuaciones y $n$ incógnitas como\n",
    "\n",
    "$$f_1(x_1,x_2,\\dots,x_n) = 0,$$\n",
    "\n",
    "$$f_2(x_1,x_2,\\dots,x_n) = 0,$$\n",
    "\n",
    "$$\\vdots$$\n",
    "\n",
    "$$f_m(x_1,x_2,\\dots,x_n) = 0,$$\n",
    "\n",
    "donde $f_j$ es una función arbitraria, con $1\\leq j\\leq m$. Una _solución_ al sistema es una $n$-tupla de valores $(x_1,x_2,\\dots,x_n)$ para los cuales todas las ecuaciones del sistema se verifican. Un _sistema de ecuaciones algebráicas_ es aquel donde todas las funciones $f_j$ son **polinomios** en las variables $x_1,x_2,\\dots,x_n$; más aún, un sistema de este tipo es _lineal_ si en todas las ecuaciones del sistema las incógnitas $x_1,x_2,\\dots,x_n$ **no aparecen elevadas a una potencia mayor que uno** y **tampoco aparecen productos entre las diferentes incógnitas**.\n",
    "\n",
    "En este _notebook_ veremos un método para solucionar sistemas lineales de ecuaciones algebráicas de $n$ ecuaciones y $n$ variables, donde todas las ecuaciones son _linealmente independientes_. En general, este tipo de sistemas se pueden escribir de la siguiente forma (verifica que cumpla las definiciones anteriores):\n",
    "\n",
    "$$ a_{11}x_1 + a_{12}x_2 + \\dots + a_{1n}x_n = b_1, $$\n",
    "\n",
    "$$ a_{21}x_1 + a_{22}x_2 + \\dots + a_{2n}x_n = b_2, $$\n",
    "\n",
    "$$ \\vdots $$\n",
    "\n",
    "$$ a_{n1}x_1 + a_{n2}x_2 + \\dots + a_{nn}x_n = b_n. $$\n",
    "\n",
    "### Operaciones elementales\n",
    "\n",
    "Existen tres \"operaciones elementales\" que le podemos aplicar a este sistema **sin cambiar su conjunto de soluciones**:\n",
    "1. multiplicar una ecuación (de ambos lados) por una constante no nula;\n",
    "1. sumarle a una ecuación alguna de las otras ecuaciones multiplicada por una constante arbitraria;\n",
    "1. intercambiar dos ecuaciones de lugar.\n",
    "\n",
    "El hecho de que la operación 1 no cambie al conjunto de soluciones del sistema se sigue de que, para todo $1\\leq i\\leq n$, si $c\\neq0$, entonces\n",
    "\n",
    "$$c(a_{i1}x_1 + a_{i2}x_2 + \\dots + a_{in}x_n - b_i) = 0 \\iff a_{i1}x_1 + a_{i2}x_2 + \\dots + a_{in}x_n - b_i = 0.$$\n",
    "\n",
    "Similarmente, el hecho de que la operación 2 no cambie al conjunto de soluciones del _sistema_ se sigue de que, para cualesquiera $1\\leq i,j\\leq n$ y para cualquier constante arbitraria $c'$,\n",
    "\n",
    "\\begin{align}\n",
    "    (a_{i1}x_1 + a_{i2}x_2 + \\dots + a_{in}x_n - b_i) = 0 \\ &\\land \\ (a_{j1}x_1 + a_{j2}x_2 + \\dots + a_{jn}x_n - b_j) = 0 \\\\\n",
    "    &\\iff \\\\\n",
    "    (a_{i1}x_1 + a_{i2}x_2 + \\dots + a_{in}x_n - b_i) \\ &+ \\ c'(a_{j1}x_1 + a_{j2}x_2 + \\dots + a_{jn}x_n - b_j) = 0.\n",
    "\\end{align}\n",
    "\n",
    "En efecto: La primera implicación es directa, mientras que la otra se sigue de que las ecuaciones son linealmente dependientes. Por último, es claro por qué la operación 3 no cambia el conjunto de soluciones pues, después de aplicarla, las ecuaciones del sistema siguen siendo las mismas."
   ]
  },
  {
   "cell_type": "markdown",
   "id": "507ffad4",
   "metadata": {},
   "source": [
    "## Método de eliminación Gaussiana\n",
    "\n",
    "A continuación, veremos un algoritmo que aprovecha las operaciones elementales descritas anteriormente para obtener una solución a un sistema lineal de ecuaciones algebráicas.\n",
    "\n",
    "### Retropropagación\n",
    "\n",
    "Supongamos que, a través de operaciones elementales, podemos transformar el sistema lineal de ecuaciones algebráicas anterior en uno de la forma\n",
    "\n",
    "\\begin{align*}\n",
    "    a'_{11}x_1 \\ + \\ a'_{12}x_2 \\ + \\dots + \\ a'_{1n-1}x_{n-1} \\ + \\ a'_{1n}x_n &= b'_1, \\\\\n",
    "    0 \\ + a'_{22}x_2 + \\dots + a'_{1n-1}x_{n-1} \\ + \\ a'_{1n}x_n &= b'_2, \\\\\n",
    "    & \\ \\vdots \\\\\n",
    "    0 + 0 + \\dots + a'_{n-1,n-1} x_{n-1} + a'_{n-1n}x_n &= b'_{n-1}, \\\\\n",
    "    0 \\ + \\ 0 \\ + \\ \\dots \\ + \\ \\ 0 \\ \\ + \\ \\ \\ a'_{nn}x_n &= b'_n,\n",
    "\\end{align*}\n",
    "\n",
    "con $a'_{ii}\\neq0$ para $1\\leq 1\\leq n$ (en la sección **Reducción** explicaremos por qué es posible lograr esto). Observemos que la última ecuación tiene sólo una incógnita, que podemos despejar para obtener\n",
    "\n",
    "$$x_n = \\frac{b'_n}{a'_{nn}}.$$\n",
    "\n",
    "**Ejercicio** Despeja a $x_{n-1}$ de la penúltima ecuación y sustituye en valor de $x_n$."
   ]
  },
  {
   "cell_type": "markdown",
   "id": "33cbcba1",
   "metadata": {},
   "source": [
    "De la ecuación $$ a'_{n-1,n-1} x_{n-1} = b'_{n-1} - a'_{n-1n}x_n $$ obtenemos que\n",
    "\n",
    "$$x_{n-1} = \\frac{(b'_{n-1} -  a'_{n-1n})x_n}{a'_{n-1,n-1}}$$\n",
    "\n",
    "Ahora sustituimos el valor $x_n$\n",
    "\n",
    "$$x_{n-1} = \\frac{(b'_{n-1} -  a'_{n-1n})b'_n}{a'_{nn}a'_{n-1,n-1}}$$"
   ]
  },
  {
   "cell_type": "markdown",
   "id": "2d2a55c4",
   "metadata": {},
   "source": [
    "Iterativamente, por cada ecuación que solucionamos, podemos sustituir todos los valores obtenidos hasta el momento en la ecuación _anterior_ para solucionarla también, hasta haber encontrado valores $(x_1,x_2,\\dots,x_n)$ que solucionen todo el sistema. A este procedimiento se le conoce como _retropropagación_.\n",
    "\n",
    "**Ejercicio** Da una fórmula general para el valor de $x_i$, con $1\\leq i<n$, en términos de los $x_j$ para $i < j \\leq n$."
   ]
  },
  {
   "cell_type": "markdown",
   "id": "07ebfddf",
   "metadata": {},
   "source": [
    "Para algún $x_i$, con $1\\leq i<n$ \n",
    "$$x_i= \\frac{b'_{i-1}-\\sum_{j-i+1}^{n}a'_{i-1}x_{j}}{a_{ii}} $$"
   ]
  },
  {
   "cell_type": "markdown",
   "id": "a0407b0e",
   "metadata": {},
   "source": [
    "**Nota** Lo que nos asegura que los coeficientes $a_{ii}$ con $1\\leq i\\leq n$ son distintos de cero y, por lo tanto, que nuestras soluciones para $x_n, x_{n-1},\\dots,x_1$ están bien definidas es que las ecuaciones del sistema sean linealmente independientes. Esto es equivalente a que la matriz cuadrada tenga un determinante distinto de cero. A este tipo de matrices se les llama _matrices no singulares_."
   ]
  },
  {
   "cell_type": "markdown",
   "id": "70c87c91",
   "metadata": {},
   "source": [
    "### Reducción\n",
    "\n",
    "Al proceso de tomar un sistema lineal de $n$ ecuaciones algebráicas y $n$ incógnitas\n",
    "\n",
    "$$ a_{11}x_1 + a_{12}x_2 + \\dots + a_{1n}x_n = b_1, $$\n",
    "\n",
    "$$ a_{21}x_1 + a_{22}x_2 + \\dots + a_{2n}x_n = b_2, $$\n",
    "\n",
    "$$ \\vdots $$\n",
    "\n",
    "$$ a_{n1}x_1 + a_{n2}x_2 + \\dots + a_{nn}x_n = b_n, $$\n",
    "\n",
    "y transformarlo a través de operaciones elementales en uno de la forma\n",
    "\n",
    "\\begin{align*}\n",
    "    a'_{11}x_1 \\ + \\ a'_{12}x_2 \\ + \\dots + \\ a'_{1n-1}x_{n-1} \\ + \\ a'_{1n}x_n &= b'_1, \\\\\n",
    "    0 \\ + a'_{22}x_2 + \\dots + a'_{1n-1}x_{n-1} \\ + \\ a'_{1n}x_n &= b'_2, \\\\\n",
    "    & \\ \\vdots \\\\\n",
    "    0 + 0 + \\dots + a'_{n-1,n-1} x_{n-1} + a'_{n-1n}x_n &= b'_{n-1}, \\\\\n",
    "    0 \\ + \\ 0 \\ + \\ \\dots \\ + \\ \\ 0 \\ \\ + \\ \\ \\ a'_{nn}x_n &= b'_n.\n",
    "\\end{align*}\n",
    "\n",
    "se le conoce como _reducción_, y esto último se conoce como la _forma reducida_ del sistema. Una _transformación elemental_ es la transformación de una ecuación del sistema en otra a través de operaciones elementales.\n",
    "\n",
    "Sea $E_i$ la $i$-ésima ecuación del sistema no reducido. Si $E_1$ tiene un coeficiente $a_{11}$ distinto de cero, definimos\n",
    "\n",
    "$$ E_1 =: E'_1; \\quad (1) $$\n",
    "\n",
    "de lo contrario, primero intercambiemos a $E_1$ por alguna ecuación $E_j$ con el coeficiente $a_{j1}$ de $x_1$ distinto de cero\n",
    "\n",
    "$$E_1 \\leftrightarrow E_j$$\n",
    "\n",
    "y después definimos a $E_1'$ usando la ecuación (1). En ambos casos, redefinamos sus coeficientes como $a'_{11}:= a_{j1}, a'_{12}:= a_{j2},\\dots, b'_1:=b_j$, obteniendo la ecuación\n",
    "\n",
    "$$E'_1: a'_{11}x_1 + a'_{12}x_2 + ... + a'_{1n} x_n = b'_1,$$\n",
    "\n",
    "con $a'_{11}\\neq0$.\n",
    "\n",
    "Ahora, observemos que, si $E_2$ tiene un coeficiente $a_{22}$ distinto de cero, entonces al aplicar la transformación elemental\n",
    "\n",
    "$$E_2 \\to E_2 - \\frac{a_{21}}{a'_{11}} E_1' =: E'_2 \\quad (2)$$\n",
    "\n",
    "la ecuación resultante $E'_2$ tendrá un coeficiente nulo en $x_1$ y no nulo en $x_2$ (Escríbela a mano y verifícalo); en cambio, si $a_{22} = 0$, primero debemos intercambiar a $E_2$ por alguna ecuación $E_k$ con el coeficiente $a_{k2}$ de $x_2$ distinto de cero\n",
    "\n",
    "$$ E_2 \\leftrightarrow E_k $$\n",
    "\n",
    "y después definir a $E'_2$ con la ecuación (2) para que la ecuación resultante tenga un coeficiente nulo en $x_1$ y no nulo en $x_2$. En ambos casos, definimos a los coeficientes de la ecuación $E'_2$, obteniendo\n",
    "\n",
    "$$E'_2: a'_{21}x_1 + a'_{22}x_2 + ... + a'_{2n} x_n = b'_2,$$\n",
    "\n",
    "con $a'_{21}=0$ y $a'_{22}\\neq0$.\n",
    "\n",
    "Luego, si $E_3$ tiene un coeficiente $a_{33}$ distinto de cero, entonces al aplicar la transformación elemental\n",
    "\n",
    "$$ E_3 \\to E_3 - \\frac{a_{31}}{a'_{11}} E_1' - \\frac{a_{32}}{a'_{22}} E_2' =: E'_3 \\quad (3) $$\n",
    "\n",
    "la ecuación resultante $E'_3$ tendrá coeficientes nulos en $x_1$ y $x_2$, y un coeficiente no nulo en $x_3$; en cambio, si $a_{33} = 0$, primero debemos intercambiar a $E_3$ por alguna ecuación $E_m$ con el coeficiente $a_{l3}$ de $x_3$ distinto de cero\n",
    "\n",
    "$$ E_3 \\leftrightarrow E_l $$\n",
    "\n",
    "y después definir\n",
    "\n",
    "y después definir a $E'_3$ con la ecuación (3) para que la ecuación resultante tenga un coeficiente nulo en $x_1$ y $x_2$, y no nulo en $x_3$. En ambos casos, definimos a los coeficientes de la ecuación $E'_3$, obteniendo\n",
    "\n",
    "$$E'_3: a'_{31}x_1 + a'_{32}x_2 + ... + a'_{3n} x_n = b'_3,$$\n",
    "\n",
    "con $a'_{31}=a'_{32}=0$ y $a'_{33}\\neq0$. (¿Observas un patrón? En serio, es muy importante que escribas al menos estos dos primeros pasos a mano, para que realmente lo _observes_.).\n",
    "\n",
    "Podemos seguir aplicando el mismo procedimiento iterativamente hasta haber obtenido ecuaciones $E'_1, E'_2, \\dots, E'_n$, las cuales forman un sistema _reducido_ al cual le podemos aplicar _retropropagación_.\n",
    "\n",
    "**Nota** La razón por la que **debe existir** una ecuación $E_j$ con coeficiente $a_{j1}\\neq0$ con el cual podamos definir a $E'_1$ y empezar el proceso de reducción es que, de lo contrario, ¡el sistema tendría $n-1$ incógnitas en vez de $n$!\n",
    "\n",
    "Observemos que las transformaciones elementales **no afectan a las incógnitas** $x_1,x_2\\dots,x_n$, sino que **sólo afectan a los coeficientes** $a_{ij}, b_i$, con $1\\leq i,j\\leq n$. Por lo tanto, podemos hacer reducción _sólo considerando a los coeficientes del sistema_. Similarmente, notemos que, para hacer retropropagación, _sólo necesitamos a los coeficientes del sistema reducido_. Esto nos lleva desechar los sistemas en favor de una representación más sencilla de visualizar y de implementar en código."
   ]
  },
  {
   "cell_type": "markdown",
   "id": "0cf2ebb0",
   "metadata": {},
   "source": [
    "### Representación matricial\n",
    "\n",
    "\n",
    "Consideremos, nuevamente, un sistema lineal de ecuaciones algebráicas\n",
    "\n",
    "$$ a_{11}x_1 + a_{12}x_2 + \\dots + a_{1n}x_n = b_1, $$\n",
    "\n",
    "$$ a_{21}x_1 + a_{22}x_2 + \\dots + a_{2n}x_n = b_2, $$\n",
    "\n",
    "$$ \\vdots $$\n",
    "\n",
    "$$ a_{n1}x_1 + a_{n2}x_2 + \\dots + a_{nn}x_n = b_n. $$\n",
    "\n",
    "Como tal vez sospeches por la notación de los coeficientes, podemos escribir este sistema como una sola ecuación vectorial\n",
    "\n",
    "$$ \\begin{pmatrix} a_{11} &a_{12} &\\dots &a_{1n} \\\\ a_{21} &a_{22} &\\dots &a_{2n} \\\\ \\vdots &\\vdots &\\ddots &\\vdots \\\\ a_{n1} &a_{n2} &\\dots &a_{nn} \\end{pmatrix} \\begin{pmatrix} x_1 \\\\ x_2 \\\\ \\vdots \\\\ x_n \\end{pmatrix} = \\begin{pmatrix} b_1 \\\\ b_2 \\\\ \\vdots \\\\ b_n \\end{pmatrix}; $$\n",
    "\n",
    "o, de forma más sucinta,\n",
    "\n",
    "$$ A \\vec{x} = \\vec{b}. $$\n",
    "\n",
    "Observemos que podemos representar a nuestro sistema de ecuaciones con la matriz aumentada\n",
    "\n",
    "$$ \\big( A\\mid\\vec{b} \\ \\big) = \\begin{pmatrix} a_{11} &a_{12} &\\dots &a_{1n} &\\mid &b_1 \\\\ a_{21} &a_{22} &\\dots &a_{2n} &\\mid &b_2 \\\\ \\vdots &\\vdots &\\ddots &\\vdots &\\mid &\\vdots \\\\ a_{n1} &a_{n2} &\\dots &a_{nn} &\\mid &b_n \\end{pmatrix}. $$\n",
    "\n",
    "De esta forma, cada renglón de la matriz aumentada representa una ecuación de nuestro sistema... ¡y las operaciones elementales que vimos para sistemas lineales de ecuaciones _coinciden completamente_ con operaciones elementales de matrices! (De hecho, de ahí viene el nombre.) Recordando que las transformaciones elementales sólo afectan a los **coeficientes** de un sistema lineal de ecuaciones, entonces podemos aplicarle **reducción** a la matriz aumentada para llevarla a su forma reducida\n",
    "\n",
    "$$ \\begin{pmatrix} a'_{11} &a'_{12} &\\dots &a'_{1n} &\\mid &b'_1 \\\\ 0 &a'_{22} &\\dots &a'_{2n} &\\mid &b'_2 \\\\ \\vdots &\\vdots &\\ddots &\\vdots &\\mid &\\vdots \\\\ 0 &0 &\\dots &a'_{nn} &\\mid &b'_n \\end{pmatrix}. $$\n",
    "\n",
    "Luego, recordando que la retropropagación se puede llevar a cabo sólo con los coeficientes del sistema reducido, ¡podemos utilizar esta matriz reducida para encontrar la solución de nuestro sistema!"
   ]
  },
  {
   "cell_type": "markdown",
   "id": "139f4699",
   "metadata": {},
   "source": [
    "## Implementación\n",
    "\n",
    "Para este punto, ya debes tener motivación para resolver un problema importante y ubicuo, así como un plan de acción respaldado por una teoría sensata. Ahora sí, ¡te toca implementarlo!\n",
    "\n",
    "Como sugerencia general, te recomiendo recordar que puedes crear celdas de Jupyter libremente para experimentar con tu código, probarlo con diferentes parámetros, ver si funciona como esperas, e irlo corrigiendo en caso de que no. Además, si así lo deseas, puedes empezar resolviendo sistemas pequeños (por ejemplo, de dos ecuaciones) y, ya que tengas una noción de los procedimientos y cómo implementarlos, generalizar tu código para que también pueda resolver sistemas más grandes. \n",
    "\n",
    "**Ejercicio** Crea una función `retropropagación` con un argumento `M`, que puedes suponer que es una matriz aumentada de la forma\n",
    "\n",
    "$$ \\begin{pmatrix} a'_{11} &a'_{12} &\\dots &a'_{1n} &\\mid &b'_1 \\\\ 0 &a'_{22} &\\dots &a'_{2n} &\\mid &b'_2 \\\\ \\vdots &\\vdots &\\ddots &\\vdots &\\mid &\\vdots \\\\ 0 &0 &\\dots &a'_{nn} &\\mid &b'_n \\end{pmatrix} $$\n",
    "\n",
    "-es decir, aquella formada por una matriz triangulada superior y un vector $\\vec{b}'$-, que aplique retropropagación a la matriz `M` y devuelva como resultado un arreglo con el vector solución $\\vec{x}$."
   ]
  },
  {
   "cell_type": "code",
   "execution_count": 3,
   "id": "8afe23d4",
   "metadata": {},
   "outputs": [
    {
     "data": {
      "text/plain": [
       "retropropagación (generic function with 1 method)"
      ]
     },
     "execution_count": 3,
     "metadata": {},
     "output_type": "execute_result"
    }
   ],
   "source": [
    "function retropropagación(M,b)                           # Definimos la función retropropagación\n",
    "    n = size(M,1)                                        # definimos n como el tamaño de la matriz\n",
    "    x = zeros(n)                                         # definimos x como ceros para la\n",
    "    x[n] = b[n]/M[n,n]                                   # x[n] lo definimos como b/M\n",
    "    for i in n-1:-1:1                                    # para i en n-1 a 1\n",
    "        s = sum( M[i,j]*x[j] for j in i+1:n )            # s es la suma de M*x para j en i+1 a n\n",
    "        x[i] = ( b[i] - s ) / M[i,i]                     # xi lo definimos como bi - la suma s entre la matriz\n",
    "                                                         # este proceso se repite hasta n\n",
    "    end\n",
    "    return x                                             # regresamos x que es el vector solución\n",
    "end"
   ]
  },
  {
   "cell_type": "code",
   "execution_count": 9,
   "id": "896e927f",
   "metadata": {},
   "outputs": [
    {
     "data": {
      "text/plain": [
       "3-element Vector{Float64}:\n",
       " -0.7111111111111109\n",
       "  0.2\n",
       "  0.3333333333333333"
      ]
     },
     "execution_count": 9,
     "metadata": {},
     "output_type": "execute_result"
    }
   ],
   "source": [
    "A = [3 4 7; 9 5 3; 2 5 9]\n",
    "b = [1 2 3]\n",
    "retropropagación(A,b)"
   ]
  },
  {
   "cell_type": "markdown",
   "id": "dc0c2af6",
   "metadata": {},
   "source": [
    "Ya hemos implementado un algoritmo capaz de solucionar matrices reducidas. Ahora, implementaremos otro que realice el proceso de reducción de una matriz aumentada. Como este proceso depende de que las entradas que van quedando en la diagonal sean no nulas -para poder dividir entre ellas-, primero implementaremos una función que se asegure de que esto suceda.\n",
    "\n",
    "**Ejercicio** Crea una función `pivote` que tome tres argumentos `M`, `i` y `j`, y revise si la entrada del renglón `i` y columna `j` de la matriz `M` es igual a cero. En caso que sí lo sea, debe buscar la primera entrada distinta de cero entre los siguientes renglones de la misma columna y, al encontrarla, intercambiar el renglón correspondiente a la entrada no nula con el renglón `i`.\n",
    "\n",
    "Sugerencias: Recuerda que puedes aplicar la función `length` a un vector columna de una matriz para obtener la cantidad de renglones de esa matriz. Además, puedes crear una variable temporal para no perder información durante el intercambio de los renglones."
   ]
  },
  {
   "cell_type": "code",
   "execution_count": 37,
   "id": "45601d51",
   "metadata": {},
   "outputs": [
    {
     "data": {
      "text/plain": [
       "pivote (generic function with 1 method)"
      ]
     },
     "execution_count": 37,
     "metadata": {},
     "output_type": "execute_result"
    }
   ],
   "source": [
    "function pivote(M,i,j,b)                              # Definimos la función pivote\n",
    "    n,m = size(M)                                     # definimos n y m como el tamaño de la matriz\n",
    "    n_b = length(b)                                   # y n_b el tamaño del vector b\n",
    "    \n",
    "    i_max = i                                        # definimos i maximo\n",
    "    for k = i-1:n                                    # para una k igual a i-1 hasta n\n",
    "        if abs(M[k,j]) > abs(M[i_max, j])           # si el valor absoluto de M de k,j es mayor al valor absoluto de M de i_max,j\n",
    "            i_max = k                               # definimos i_max como k\n",
    "        end\n",
    "    end\n",
    "     if i_max != i                                     # si el i_max es distinto de i\n",
    "        M[i,:], M[i_max,:] = M[i_max,:], M[i,:]        # definimos M para i, i_max\n",
    "        b[i], b[i_max] = b[i_max], b[i]                # definimos b para i, i_max\n",
    "    end\n",
    "     return M,b                                       # regresamos a la matriz y el vector b\n",
    "end"
   ]
  },
  {
   "cell_type": "code",
   "execution_count": 39,
   "id": "b3304b00",
   "metadata": {},
   "outputs": [
    {
     "data": {
      "text/plain": [
       "([3 4 7; 2 5 9; 9 5 3], [1 3 2])"
      ]
     },
     "execution_count": 39,
     "metadata": {},
     "output_type": "execute_result"
    }
   ],
   "source": [
    "A = [3 4 7; 9 5 3; 2 5 9]\n",
    "b = [1 2 3]\n",
    "pivote(A,2,3,b)"
   ]
  },
  {
   "cell_type": "markdown",
   "id": "cb419e2e",
   "metadata": {},
   "source": [
    "**Ejercicio** Crea una función `reducción` que tome un argumento `M`, que puedes suponer que es una matriz aumentada de la forma\n",
    "\n",
    "$$ \\begin{pmatrix} a_{11} &a_{12} &\\dots &a_{1n} &\\mid &b_1 \\\\ a_{21} &a_{22} &\\dots &a_{2n} &\\mid &b_2 \\\\ \\vdots &\\vdots &\\ddots &\\vdots &\\mid &\\vdots \\\\ a_{n1} &a_{n2} &\\dots &a_{nn} &\\mid &b_n \\end{pmatrix} $$\n",
    "\n",
    "que representa un sistema de ecuaciones algebráicas linealmente independientes -y que, por ende, le podemos aplicar reduccion-, que devuelva la matriz reducida correspondiente.\n",
    "\n",
    "Sugerencia: Usa la función `pivote` que creaste anteriormente."
   ]
  },
  {
   "cell_type": "code",
   "execution_count": 28,
   "id": "815430a1",
   "metadata": {},
   "outputs": [
    {
     "data": {
      "text/plain": [
       "reduccion (generic function with 1 method)"
      ]
     },
     "execution_count": 28,
     "metadata": {},
     "output_type": "execute_result"
    }
   ],
   "source": [
    "function reduccion(M,b)                                           # nombramos a la función reduccion\n",
    "    n,m = size(M)                                                 # c y m nos dara el tamaño de la matriz\n",
    "    n_b = length(b)                                               # nos dara el tamaño del vector b\n",
    "    if n != m                                                     # si n es distinta de m sale un mensaje de error\n",
    "        error(\"La matriz no es cuadrada \")\n",
    "    elseif n_b != n                                               # si el tamaño del vector es distinto a n sale un mensaje de error\n",
    "        error(\"La longitud del vector de soluciones debe ser igual a las incognitas\")\n",
    "    end\n",
    "    \n",
    "    MB = hcat(M,B)                                               # definimos MB como la concatenacion de m y b\n",
    "    for j =1:n                                                   # para j de 1 a n\n",
    "        i_max = j                                                # definimos i maxima\n",
    "        for i = j+1:n                                            # definimos i como j+1 hasta n\n",
    "            if abs(MB[i,j]) > abs(MB[i_max,j])                   # si el valor absoluto de mb de i a j es mayor que el valor absoluto de mb de imaxima a j\n",
    "                i_max = i                                        # definimos i maxima como i\n",
    "            end\n",
    "        end\n",
    "        \n",
    "        if i_max != j                                            # si el i maximo es distinto de j\n",
    "            MB[j,:], MB[i_max,:] = MB[i_max,:], MB[j,:]          \n",
    "        end\n",
    "        \n",
    "        for i= j+1:n                                             # para i igual a j+1 hasta n\n",
    "            c = MB[i,j]/MB[j,j]                                  # definimos c\n",
    "            MB[i,:] -= c*MB[j,:]                                 # definimos MB[i,:]\n",
    "        end\n",
    "    end\n",
    "    \n",
    "    x= zeros(n)                                                  # definimos x como el arreglo de ceros \n",
    "    for i = n:-1:1                                               # para i de n a -1 a 1\n",
    "        x[i] = MB[i,n+1]                                         # definimos xi\n",
    "       for j= i+1:n                                              # para j de i-1 a n\n",
    "          x[i] -= MB[i,j]*x[j]                                   # definimos xi\n",
    "        end\n",
    "         x[i] /= MB[i,i]\n",
    "    end\n",
    "      return x                                                   # regresamos a x\n",
    "end"
   ]
  },
  {
   "cell_type": "code",
   "execution_count": 61,
   "id": "b7f55e8d",
   "metadata": {},
   "outputs": [
    {
     "data": {
      "text/plain": [
       "3-element Vector{Float64}:\n",
       " -3.200000000000003\n",
       "  8.600000000000007\n",
       " -3.4000000000000035"
      ]
     },
     "execution_count": 61,
     "metadata": {},
     "output_type": "execute_result"
    }
   ],
   "source": [
    "M = [3.0 4.0 7.0; 9.0 5.0 3.0; 2.0 5.0 9.0]\n",
    "B = [1.0; 4.0; 6.0]\n",
    "reduccion(M,B)"
   ]
  },
  {
   "cell_type": "code",
   "execution_count": 64,
   "id": "ff5a9efa",
   "metadata": {},
   "outputs": [
    {
     "data": {
      "text/plain": [
       "3-element Vector{Float64}:\n",
       " -1.2571428571428573\n",
       "  3.7428571428571438\n",
       " -1.1333333333333337"
      ]
     },
     "execution_count": 64,
     "metadata": {},
     "output_type": "execute_result"
    }
   ],
   "source": [
    "A = [3 4 9; 9 5 3; 2 5 9]\n",
    "b = [1; 2; 7]\n",
    "reduccion(A,b)"
   ]
  },
  {
   "cell_type": "markdown",
   "id": "725fb2a7",
   "metadata": {},
   "source": [
    "**Ejercicio** Crea una función `solución` con un argumento `M`, que puedes suponer que es una matriz aumentada que representa un sistema de ecuaciones algebráicas linealmente independientes, que integre las funciones `reducción` y `retropropagación` y devuelva un arreglo con el vector solución $\\vec{x}$."
   ]
  },
  {
   "cell_type": "code",
   "execution_count": 5,
   "id": "09494c87",
   "metadata": {},
   "outputs": [
    {
     "data": {
      "text/plain": [
       "solucion (generic function with 1 method)"
      ]
     },
     "execution_count": 5,
     "metadata": {},
     "output_type": "execute_result"
    }
   ],
   "source": [
    "function solucion(M)                                               # definimos la funcion                                       \n",
    "    m,n = size(M)                                                  # definimos el tamaño de la matriz\n",
    "    for i = 1:m                                                    # para i de 1 a m\n",
    "        pivot = abs(M[i,i])                                        # definimos pivote como el valor absoluto de la matriz de i a i\n",
    "        pivot_renglon = i                                          # definimos el renglon pivote\n",
    "        for k = i+1:m                                              # para k de i+1 a m\n",
    "            if abs(M[k,i]) > pivot                                 # si el valor absoluto de la matriz de k a i es mayor al pivote\n",
    "            pivot = abs(M[k,i])                                    # deinimos pivote como el valor absoluto de la matriz de k a i \n",
    "                pivot_renglon = k                                  #definimos el reglon pivote como k\n",
    "            end \n",
    "        end\n",
    "        M[i,:], M[pivot_renglon,:] = M[pivot_renglon,:], M[i,:] \n",
    "            \n",
    "            for j = i+1:m                                          # para j de i+1 hasta m\n",
    "                factor = M[j,i]/ M[i,i]                            # definimos el factor\n",
    "                M[j,:] -= factor * M[i,:]                          # definimos M[j,:] como la resta AND del factor por la matriz\n",
    "            end\n",
    "      end\n",
    "                x = zeros(n-1)                                    # definimos x como el arreglo de ceros de n-1\n",
    "                x[n-1] = M[m,n] / M[m, n-1]                       # definimos x de n-1\n",
    "     for i = m-1:-1\n",
    "                    sum = M[i,n]                                  # para i de m-1 a -1 defnimos la sua de M_i,n\n",
    "                    for j = i+1:m                                 # para j de i+1 a m\n",
    "                        sum -= M[i,j]*x[j]                        # definimod la suma igual a la resat AND de M por X\n",
    "                    end\n",
    "               x[i] = sum / M[i,i]                                # definimos xi como la suma entre la matriz\n",
    "                    end\n",
    "                        return x                                  # regresamos a x\n",
    "                    end       "
   ]
  },
  {
   "cell_type": "code",
   "execution_count": 9,
   "id": "b563b0ed",
   "metadata": {
    "scrolled": true
   },
   "outputs": [
    {
     "data": {
      "text/plain": [
       "3-element Vector{Float64}:\n",
       " 0.0\n",
       " 0.0\n",
       " 3.800000000000004"
      ]
     },
     "execution_count": 9,
     "metadata": {},
     "output_type": "execute_result"
    }
   ],
   "source": [
    "M = [3.0 4.0 7.0 9.0; 9.0 5.0 3.0 8.0; 2.0 5.0 9.0 6.0]\n",
    "solucion(M)"
   ]
  },
  {
   "cell_type": "markdown",
   "id": "462f6ff3",
   "metadata": {},
   "source": [
    "## Cálculo de matrices inversas\n",
    "\n",
    "Una de las características más importantes de las matrices no singulares (esto es, matrices cuadradas con determinante no nulo) es que son invertibles. Es decir que, si $A\\in M_{n\\times n}(\\mathbb{R})$ es tal que $\\text{det}(A)\\neq 0$, entonces existe $C\\in M_{n\\times n}(\\mathbb{R})$ tal que\n",
    "\n",
    "$$ AC = I_{n\\times n} = CA,$$\n",
    "\n",
    "donde $I_{n\\times n}$ es la matriz identidad con $n$ renglones y $n$ columnas. Observemos que, si esto sucede, entonces de la ecuación $AC = I_{n\\times n}$ tenemos que el producto del primer vector columna de $C$ con la matriz $A$ es igual al vector\n",
    "v\n",
    "$$ \\begin{pmatrix} 1 \\\\ 0 \\\\ \\vdots \\\\ 0 \\end{pmatrix}. $$\n",
    "\n",
    "Más generalmente, el producto del $j$-ésimo vector columna de $C$ con la matriz $A$ dará como resultado un vector con $1$ en la $j$-ésima entrada y $0$ en todas las demás.\n",
    "\n",
    "A raíz de esta observación, podemos armar y solucionar $n$ sistemas lineales de ecuaciones distintos y juntar los vectores solución en una matriz, obteniendo así una matriz _inversa por la derecha_ de $A$. Más aún, se puede ver sencillamente con un poquito de álgebra que esta matriz inversa por la derecha debe ser _la_ inversa. En efecto: sea $A\\in M_{n\\times n}(\\mathbb{R})$ una matriz no singular (invertible), $A^{-1}$ su inversa y $C$ una matriz inversa de $A$ por la derecha; entonces\n",
    "\n",
    "$$ \\begin{align*} C &= I_{n\\times n} C \\\\ &= (A^{-1}A)C  \\\\ &= A^{-1}(AC) \\\\ &= A^{-1}I_{n\\times n} \\\\ &= A^{-1}.\\end{align*} $$\n",
    "\n",
    "**Ejercicio** Crea una función `invertir` con un argumento `M`, que puedes suponer que es una matriz cuadrada no singular (invertible), que devuelva la matriz inversa de `M`.\n",
    "\n",
    "Sugerencia: Utiliza la función `solución` que creaste anteriormente."
   ]
  },
  {
   "cell_type": "code",
   "execution_count": 2,
   "id": "8e3cde2a",
   "metadata": {},
   "outputs": [
    {
     "data": {
      "text/plain": [
       "3×3 Matrix{Float64}:\n",
       " -1.66667   0.333333   0.666667\n",
       " -3.22222   0.111111   1.88889\n",
       "  3.44444  -0.222222  -1.77778"
      ]
     },
     "execution_count": 2,
     "metadata": {},
     "output_type": "execute_result"
    }
   ],
   "source": [
    "M = [2 4 5 ; 7 6 9; 3 7 8]\n",
    "inv(M)"
   ]
  },
  {
   "cell_type": "code",
   "execution_count": 8,
   "id": "3a0bc862",
   "metadata": {},
   "outputs": [
    {
     "data": {
      "text/plain": [
       "invertir (generic function with 1 method)"
      ]
     },
     "execution_count": 8,
     "metadata": {},
     "output_type": "execute_result"
    }
   ],
   "source": [
    "function invertir(V)                               # definimos la funcion invertir\n",
    "    n0=length(V[:,1])                              # n0 com el tamaño de la matriz\n",
    "    d=zeros(n0,n0)                                 # d como el arreglo de ceros\n",
    "    count=0                                        # iniciamos el conteo en 0\n",
    "   for i in 1:n0                                   # para una i de 1 a n0\n",
    "        for k in 1:n0                              # para k en 1 a n0\n",
    "            D[i,k]=solucion(V)             \n",
    "            # D como la solucion de la matriz aumentada\n",
    "        end\n",
    "        count=count+n0\n",
    "    end\n",
    "    return D                                       # obtenemos D como la salida\n",
    "end"
   ]
  },
  {
   "cell_type": "code",
   "execution_count": 38,
   "id": "197507c5",
   "metadata": {},
   "outputs": [
    {
     "data": {
      "text/plain": [
       "invertir_matriz (generic function with 1 method)"
      ]
     },
     "execution_count": 38,
     "metadata": {},
     "output_type": "execute_result"
    }
   ],
   "source": [
    "function invertir_matriz(M)\n",
    "    m, n = size(M)\n",
    "    I = Matrix{Float64}(I, m, m)\n",
    "    for i in 1:m\n",
    "        I[i, i] = 1.0\n",
    "    end\n",
    "    \n",
    "    A = [M I]  # Concatenamos la matriz M con la matriz identidad para aplicar eliminación gaussiana\n",
    "    \n",
    "    solucion(A)  # Utilizamos la función solucion para resolver el sistema de ecuaciones\n",
    "    \n",
    "    inv_M = A[:, n+1:end]  # Obtenemos la submatriz correspondiente a la inversa de M\n",
    "    \n",
    "    return inv_M\n",
    "end"
   ]
  },
  {
   "cell_type": "code",
   "execution_count": 39,
   "id": "3ca839eb",
   "metadata": {},
   "outputs": [
    {
     "ename": "LoadError",
     "evalue": "UndefVarError: i not defined",
     "output_type": "error",
     "traceback": [
      "UndefVarError: i not defined",
      "",
      "Stacktrace:",
      " [1] top-level scope",
      "   @ In[39]:2"
     ]
    }
   ],
   "source": [
    "M = [3.0 4.0 7.0; 9.0 5.0 3.0; 2.0 5.0 9.0]\n",
    "I[i, i] = 1.0\n",
    "\n",
    "invertir_matriz(M)"
   ]
  },
  {
   "cell_type": "code",
   "execution_count": 6,
   "id": "85186419",
   "metadata": {},
   "outputs": [
    {
     "data": {
      "text/plain": [
       "invertir1 (generic function with 1 method)"
      ]
     },
     "execution_count": 6,
     "metadata": {},
     "output_type": "execute_result"
    }
   ],
   "source": [
    "#Función invertir\n",
    "function invertir1(M)\n",
    "\n",
    "c=size(M)[2]\n",
    "f=size(M)[1] #Especificación número de columnas y filas de M\n",
    "\n",
    "M′=zeros(f,c) #Matriz inversa primitiva (sólo ceros) \n",
    "    \n",
    "    for j in 1:f\n",
    "        y=zeros(3) #Vector ceros\n",
    "        y[j]=1 #Vector con ceros y 1 en la j-ésima fila\n",
    "\n",
    "        B=hcat(M,y) #Matriz para resolver ecuaciones lineales\n",
    "        b=solucion(B) #Vector solución de matriz B\n",
    "\n",
    "        for i in 1:c\n",
    "            M′[i,j]=b[i] #Llenado matriz inversa\n",
    "        end\n",
    "\n",
    "    end\n",
    "return M′\n",
    "end"
   ]
  },
  {
   "cell_type": "code",
   "execution_count": 7,
   "id": "e62aba1a",
   "metadata": {},
   "outputs": [
    {
     "data": {
      "text/plain": [
       "3×3 Matrix{Float64}:\n",
       "  0.0   0.0  0.0\n",
       "  0.0   0.0  0.0\n",
       " -1.0  -1.0  2.0"
      ]
     },
     "execution_count": 7,
     "metadata": {},
     "output_type": "execute_result"
    }
   ],
   "source": [
    "#Prueba de función\n",
    "M=[1.0 2.0 2.0; 1.0 4.0 9.0; 1.0 3.0 6.0]\n",
    "invertir1(M)"
   ]
  },
  {
   "cell_type": "markdown",
   "id": "70597fba",
   "metadata": {},
   "source": [
    "## El método de propagación\n",
    "\n",
    "Existe otro método para solucionar sistemas lineales de ecuaciones algebráicas **totalmente análogo al que hemos visto**. En efecto, esto se sigue de observar que, si en vez de tener un sistema cuya matriz asociada sea triangular superior, fuese triangular _inferior_\n",
    "\n",
    "$$ \\begin{pmatrix} a'_{11} &0 &\\dots &0 \\\\ a'_{21} &a'_{22} &\\dots &0 \\\\ \\vdots &\\vdots &\\ddots &\\vdots \\\\ a'_{n1} &a'_{n2} &\\dots &a'_{nn} \\end{pmatrix} \\begin{pmatrix} x_1 \\\\ x_2 \\\\ \\vdots \\\\ x_n \\end{pmatrix} = \\begin{pmatrix} b'_1 \\\\ b'_2 \\\\ \\vdots \\\\ b'_n \\end{pmatrix} $$\n",
    "\n",
    "entonces podríamos solucionarlo de principio a fin, obteniendo primero a\n",
    "\n",
    "$$x_1 = \\frac{b'_{1}}{a'_{11}}$$\n",
    "\n",
    "y luego la fórmula general\n",
    "\n",
    "$$ x_i = \\frac{1}{a'_{ii}} \\bigg( b'_i - \\sum_{j=1}^{i-1} a'_{ij}x_j \\bigg) $$\n",
    "\n",
    "para $1<i\\leq n$. A este método se le conoce como _propagación_, pues solucionamos la primera entrada del vector incógnita y después propagamos esa solución iterativamente hacia adelante. Asimismo, podemos reducir una matriz aumentada de la forma\n",
    "\n",
    "$$ \\begin{pmatrix} a_{11} &a_{12} &\\dots &a_{1n} &\\mid &b_1 \\\\ a_{21} &a_{22} &\\dots &a_{2n} &\\mid &b_2 \\\\ \\vdots &\\vdots &\\ddots &\\vdots &\\mid &\\vdots \\\\ a_{n1} &a_{n2} &\\dots &a_{nn} &\\mid &b_n \\end{pmatrix} $$\n",
    "\n",
    "a una de la forma\n",
    "\n",
    "$$ \\begin{pmatrix} a'_{11} &0 &\\dots &0 &\\mid &b'_1 \\\\ a'_{21} &a'_{22} &\\dots &0 &\\mid &b'_2 \\\\ \\vdots &\\vdots &\\ddots &\\vdots &\\mid &\\vdots \\\\ a'_{n1} &a'_{n2} &\\dots &a'_{nn} &\\mid &b'_n \\end{pmatrix} $$\n",
    "\n",
    "haciendo un proceso inverso al que vimos anteriormente -siempre y cuando, nuevamente, la matriz cuadrada sea no singular.\n",
    "\n",
    "En inglés, este segundo método (propagación) se conoce como _forward substitution_, mientras que el primero que vimos (retropropagación) se conoce como _backward substitution_."
   ]
  },
  {
   "cell_type": "markdown",
   "id": "9864317a",
   "metadata": {},
   "source": [
    "## Recursos complementarios\n",
    "\n",
    "* Capítulo 6 \"Direct Methods for Solving Linear Systems\" de Burden, Faires y Burden, _Numerical Analysis_ (2016).\n",
    "* Secciones 3.2 \"Solution of Triangular Systems\" y 3.3 \"The Gaussian Elimination Method (GEM) and LU Factorization\" de Quarteroni, Sacco y Saleri, _Numerical Mathematics_ (2000).\n",
    "* Capítulo 2 \"Systems of Linear Equations\" de Poole, _Linear Algebra: A Modern Introduction_ (2015)."
   ]
  }
 ],
 "metadata": {
  "kernelspec": {
   "display_name": "Julia 1.8.5",
   "language": "julia",
   "name": "julia-1.8"
  },
  "language_info": {
   "file_extension": ".jl",
   "mimetype": "application/julia",
   "name": "julia",
   "version": "1.8.5"
  }
 },
 "nbformat": 4,
 "nbformat_minor": 5
}
